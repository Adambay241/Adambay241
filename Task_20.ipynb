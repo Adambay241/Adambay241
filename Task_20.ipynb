{
  "nbformat": 4,
  "nbformat_minor": 0,
  "metadata": {
    "colab": {
      "provenance": [],
      "authorship_tag": "ABX9TyPEYHhzY3JjVHcu0UE5lq2s",
      "include_colab_link": true
    },
    "kernelspec": {
      "name": "python3",
      "display_name": "Python 3"
    },
    "language_info": {
      "name": "python"
    }
  },
  "cells": [
    {
      "cell_type": "markdown",
      "metadata": {
        "id": "view-in-github",
        "colab_type": "text"
      },
      "source": [
        "<a href=\"https://colab.research.google.com/github/Adambay241/Adambay241/blob/main/Task_20.ipynb\" target=\"_parent\"><img src=\"https://colab.research.google.com/assets/colab-badge.svg\" alt=\"Open In Colab\"/></a>"
      ]
    },
    {
      "cell_type": "code",
      "execution_count": null,
      "metadata": {
        "id": "AIcN9bRoGfSv"
      },
      "outputs": [],
      "source": [
        "#Import necessary extensions, name accordingly.\n",
        "import pandas as pd\n",
        "from sklearn.model_selection import train_test_split\n",
        "from sklearn.tree import DecisionTreeClassifier, plot_tree\n",
        "from sklearn.metrics import accuracy_score\n",
        "import matplotlib.pyplot as plt\n"
      ]
    },
    {
      "cell_type": "code",
      "source": [
        "# Load the Titanic dataset\n",
        "titanic_data = pd.read_csv('Titanic.csv')\n",
        "\n",
        "# Select relevant features\n",
        "features = ['Pclass', 'Sex', 'Age', 'SibSp', 'Parch', 'Fare']\n",
        "titanic_data = titanic_data[features + ['Survived']]\n",
        "\n",
        "# Handle missing values\n",
        "titanic_data['Age'].fillna(titanic_data['Age'].median(), inplace=True)\n",
        "titanic_data.dropna(inplace=True)\n",
        "\n",
        "# Convert categorical variable 'Sex' to numerical\n",
        "titanic_data['Sex'] = titanic_data['Sex'].map({'male': 0, 'female': 1})\n"
      ],
      "metadata": {
        "id": "KEcUjNkKPzF0"
      },
      "execution_count": null,
      "outputs": []
    },
    {
      "cell_type": "code",
      "source": [
        "# Split the data into training, development, and test sets\n",
        "train_data, temp_data = train_test_split(titanic_data, test_size=0.4, random_state=42)\n",
        "dev_data, test_data = train_test_split(temp_data, test_size=0.5, random_state=42)\n",
        "\n",
        "X_train = train_data.drop('Survived', axis=1)\n",
        "y_train = train_data['Survived']\n",
        "X_dev = dev_data.drop('Survived', axis=1)\n",
        "y_dev = dev_data['Survived']\n",
        "X_test = test_data.drop('Survived', axis=1)\n",
        "y_test = test_data['Survived']\n"
      ],
      "metadata": {
        "id": "VZKtUDpQPzJT"
      },
      "execution_count": null,
      "outputs": []
    },
    {
      "cell_type": "code",
      "source": [
        "# Train a decision tree without any depth restrictions\n",
        "decision_tree = DecisionTreeClassifier(random_state=42)\n",
        "decision_tree.fit(X_train, y_train)\n",
        "\n",
        "# Plot the decision tree\n",
        "plt.figure(figsize=(20, 10))\n",
        "plot_tree(decision_tree, filled=True, feature_names=features, class_names=['Not Survived', 'Survived'])\n",
        "plt.title('Decision Tree without Depth Restriction')\n",
        "plt.show()\n"
      ],
      "metadata": {
        "id": "MSa3yACiPzOn"
      },
      "execution_count": null,
      "outputs": []
    },
    {
      "cell_type": "code",
      "source": [
        "# Make predictions on the development set\n",
        "y_dev_pred = decision_tree.predict(X_dev)\n",
        "\n",
        "# Calculate accuracy\n",
        "dev_accuracy = accuracy_score(y_dev, y_dev_pred)\n",
        "print(f\"Development Set Accuracy: {dev_accuracy:.4f}\")\n"
      ],
      "metadata": {
        "id": "-elo5dqcPzSi"
      },
      "execution_count": null,
      "outputs": []
    },
    {
      "cell_type": "code",
      "source": [
        "# Experiment with different values of max_depth\n",
        "train_accuracies = []\n",
        "dev_accuracies = []\n",
        "depth_range = range(2, 10)\n",
        "\n",
        "for depth in depth_range:\n",
        "    # Train a decision tree with the current max_depth\n",
        "    model = DecisionTreeClassifier(max_depth=depth, random_state=42)\n",
        "    model.fit(X_train, y_train)\n",
        "\n",
        "    # Calculate training accuracy\n",
        "    y_train_pred = model.predict(X_train)\n",
        "    train_accuracy = accuracy_score(y_train, y_train_pred)\n",
        "    train_accuracies.append(train_accuracy)\n",
        "\n",
        "    # Calculate development accuracy\n",
        "    y_dev_pred = model.predict(X_dev)\n",
        "    dev_accuracy = accuracy_score(y_dev, y_dev_pred)\n",
        "    dev_accuracies.append(dev_accuracy)\n",
        "\n",
        "    # Plot the tree for each depth\n",
        "    plt.figure(figsize=(20, 10))\n",
        "    plot_tree(model, filled=True, feature_names=features, class_names=['Not Survived', 'Survived'])\n",
        "    plt.title(f\"Decision Tree with max_depth={depth}\")\n",
        "    plt.show()\n"
      ],
      "metadata": {
        "id": "yxxcGjh-PzW8"
      },
      "execution_count": null,
      "outputs": []
    },
    {
      "cell_type": "code",
      "source": [
        "# Plot training and development accuracies\n",
        "plt.plot(depth_range, train_accuracies, label='Training Accuracy')\n",
        "plt.plot(depth_range, dev_accuracies, label='Development Accuracy')\n",
        "plt.xlabel('Max Depth')\n",
        "plt.ylabel('Accuracy')\n",
        "plt.title('Accuracy vs Max Depth')\n",
        "plt.legend()\n",
        "plt.show()\n"
      ],
      "metadata": {
        "id": "csZD2fJcPza5"
      },
      "execution_count": null,
      "outputs": []
    },
    {
      "cell_type": "code",
      "source": [
        "# Optimal max_depth\n",
        "optimal_depth = depth_range[dev_accuracies.index(max(dev_accuracies))]\n",
        "\n",
        "# Train the final model with the optimal max_depth\n",
        "final_model = DecisionTreeClassifier(max_depth=optimal_depth, random_state=42)\n",
        "final_model.fit(X_train, y_train)\n",
        "\n",
        "# Make predictions on the test set\n",
        "y_test_pred = final_model.predict(X_test)\n",
        "\n",
        "# Calculate test accuracy\n",
        "test_accuracy = accuracy_score(y_test, y_test_pred)\n",
        "print(f\"Test Set Accuracy: {test_accuracy:.4f}\")\n"
      ],
      "metadata": {
        "id": "kNIe1zoAPzfT"
      },
      "execution_count": null,
      "outputs": []
    },
    {
      "cell_type": "code",
      "source": [
        "# The training accuracy had a linear shape to its value which means it is becoming more accurate,\n",
        "# As the data is becoming more complex, therefore the model is not overfitting.\n",
        "# The development line is majoritively flat with a few bumps, this indicates,\n",
        "# That the change in the model's complexity is not significantly impacting the performance of the validation set.\n"
      ],
      "metadata": {
        "id": "2XR9sXSAPzj-"
      },
      "execution_count": null,
      "outputs": []
    }
  ]
}